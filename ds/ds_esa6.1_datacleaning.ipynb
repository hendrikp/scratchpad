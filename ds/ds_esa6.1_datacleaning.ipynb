{
  "cells": [
    {
      "metadata": {
        "_uuid": "2b71d367da0a19a93021671934f53a3958979444"
      },
      "cell_type": "markdown",
      "source": "DS ESA 6.1\n---------\n\n* Write a Python / Panda Script which 'cleans' this data set. Justify your actions in the respective notebook or python script you provide as a solution (link, file, kaggle repo, etc.).\n* The original dataset does not necessarily have to be created. A proper strategy / good arguments are more important\n\nLoad data"
    },
    {
      "metadata": {
        "_uuid": "8f2839f25d086af736a60e9eeb907d3b93b6e0e5",
        "_cell_guid": "b1076dfc-b9ad-4769-8c92-a6c4dae69d19",
        "trusted": true
      },
      "cell_type": "code",
      "source": "import numpy as np # linear algebra\nimport pandas as pd # data processing, CSV file I/O (e.g. pd.read_csv)\n\n#cont = pd.read_csv(\"https://raw.githubusercontent.com/edlich/eternalrepo/master/DS-WAHLFACH/dsm-beuth-edl-demodata-dirty.csv\")\ncont = pd.read_csv(\"../input/dsm-beuth-edl-demodata-dirty1.csv\")\ncont",
      "execution_count": 2,
      "outputs": [
        {
          "output_type": "execute_result",
          "execution_count": 2,
          "data": {
            "text/plain": "      id              full_name ...   gender  age\n0    1.0        Mariel Finnigan ...   Female   60\n1    2.0          Kenyon Possek ...     Male   12\n2    3.0         Lalo Manifould ...     Male   26\n3    4.0         Nickola Carous ...     Male    4\n4    5.0          Norman Dubbin ...     Male   17\n5    6.0           Hasty Perdue ...      NaN   77\n6    7.0         Franz Castello ...     Male   25\n7    8.0           Jorge Tarney ...     Male   77\n8    9.0     Eunice Blakebrough ...   Female   45\n9   10.0  Kristopher Frankcombe ...     Male  old\n10  11.0           Palm Domotor ...     Male    6\n11  12.0          Luz Lansdowne ...   Female   16\n12  13.0         Modestia Keble ...   Female   91\n13  14.0           Stacee Bovis ...   Female   22\n14  15.0              Eden Wace ...   Female   16\n15  16.0              Eden Wace ...   Female   16\n16  17.0        Tobias Sherburn ...     Male    2\n17   NaN                    NaN ...      NaN  NaN\n18  19.0         Clair Skillern ...     Male  -78\n19  20.0        Mathew Addicott ...     Male   65\n20  21.0       Kerianne Goacher ...   Female   45\n21   NaN          Maurits Shawl ...     Male   72\n22   NaN                    NaN ...      NaN  NaN\n\n[23 rows x 7 columns]",
            "text/html": "<div>\n<style scoped>\n    .dataframe tbody tr th:only-of-type {\n        vertical-align: middle;\n    }\n\n    .dataframe tbody tr th {\n        vertical-align: top;\n    }\n\n    .dataframe thead th {\n        text-align: right;\n    }\n</style>\n<table border=\"1\" class=\"dataframe\">\n  <thead>\n    <tr style=\"text-align: right;\">\n      <th></th>\n      <th>id</th>\n      <th>full_name</th>\n      <th>first_name</th>\n      <th>last_name</th>\n      <th>email</th>\n      <th>gender</th>\n      <th>age</th>\n    </tr>\n  </thead>\n  <tbody>\n    <tr>\n      <th>0</th>\n      <td>1.0</td>\n      <td>Mariel Finnigan</td>\n      <td>Mariel</td>\n      <td>Finnigan</td>\n      <td>mfinnigan0@usda.gov</td>\n      <td>Female</td>\n      <td>60</td>\n    </tr>\n    <tr>\n      <th>1</th>\n      <td>2.0</td>\n      <td>Kenyon Possek</td>\n      <td>Kenyon</td>\n      <td>Possek</td>\n      <td>kpossek1@ucoz.com</td>\n      <td>Male</td>\n      <td>12</td>\n    </tr>\n    <tr>\n      <th>2</th>\n      <td>3.0</td>\n      <td>Lalo Manifould</td>\n      <td>Lalo</td>\n      <td>Manifould</td>\n      <td>lmanifould2@pbs.org</td>\n      <td>Male</td>\n      <td>26</td>\n    </tr>\n    <tr>\n      <th>3</th>\n      <td>4.0</td>\n      <td>Nickola Carous</td>\n      <td>Nickola</td>\n      <td>Carous</td>\n      <td>ncarous3@phoca.cz</td>\n      <td>Male</td>\n      <td>4</td>\n    </tr>\n    <tr>\n      <th>4</th>\n      <td>5.0</td>\n      <td>Norman Dubbin</td>\n      <td>Norman</td>\n      <td>Dubbin</td>\n      <td>ndubbin4@wikipedia.org</td>\n      <td>Male</td>\n      <td>17</td>\n    </tr>\n    <tr>\n      <th>5</th>\n      <td>6.0</td>\n      <td>Hasty Perdue</td>\n      <td>Hasty</td>\n      <td>Perdue</td>\n      <td>hperdue5@qq.com</td>\n      <td>NaN</td>\n      <td>77</td>\n    </tr>\n    <tr>\n      <th>6</th>\n      <td>7.0</td>\n      <td>Franz Castello</td>\n      <td>Franz</td>\n      <td>Castello</td>\n      <td>fcastello6@1688.com</td>\n      <td>Male</td>\n      <td>25</td>\n    </tr>\n    <tr>\n      <th>7</th>\n      <td>8.0</td>\n      <td>Jorge Tarney</td>\n      <td>Jorge</td>\n      <td>Tarney</td>\n      <td>jtarney7@ft.com</td>\n      <td>Male</td>\n      <td>77</td>\n    </tr>\n    <tr>\n      <th>8</th>\n      <td>9.0</td>\n      <td>Eunice Blakebrough</td>\n      <td>Eunice</td>\n      <td>Blakebrough</td>\n      <td>eblakebrough8@sohu.com</td>\n      <td>Female</td>\n      <td>45</td>\n    </tr>\n    <tr>\n      <th>9</th>\n      <td>10.0</td>\n      <td>Kristopher Frankcombe</td>\n      <td>Kristopher</td>\n      <td>Frankcombe</td>\n      <td>kfrankcombe9@slate.com</td>\n      <td>Male</td>\n      <td>old</td>\n    </tr>\n    <tr>\n      <th>10</th>\n      <td>11.0</td>\n      <td>Palm Domotor</td>\n      <td>Palm</td>\n      <td>Domotor</td>\n      <td>pdomotora@github.io</td>\n      <td>Male</td>\n      <td>6</td>\n    </tr>\n    <tr>\n      <th>11</th>\n      <td>12.0</td>\n      <td>Luz Lansdowne</td>\n      <td>Luz</td>\n      <td>Lansdowne</td>\n      <td>llansdowneb@theguardian.com</td>\n      <td>Female</td>\n      <td>16</td>\n    </tr>\n    <tr>\n      <th>12</th>\n      <td>13.0</td>\n      <td>Modestia Keble</td>\n      <td>Modestia</td>\n      <td>Keble</td>\n      <td>mkeblec@cmu.edu</td>\n      <td>Female</td>\n      <td>91</td>\n    </tr>\n    <tr>\n      <th>13</th>\n      <td>14.0</td>\n      <td>Stacee Bovis</td>\n      <td>Stacee</td>\n      <td>Bovis</td>\n      <td>sbovisd@webeden.co.uk</td>\n      <td>Female</td>\n      <td>22</td>\n    </tr>\n    <tr>\n      <th>14</th>\n      <td>15.0</td>\n      <td>Eden Wace</td>\n      <td>Eden</td>\n      <td>Wace</td>\n      <td>ewacee@marriott.com</td>\n      <td>Female</td>\n      <td>16</td>\n    </tr>\n    <tr>\n      <th>15</th>\n      <td>16.0</td>\n      <td>Eden Wace</td>\n      <td>Eden</td>\n      <td>Wace</td>\n      <td>ewacee@marriott.com</td>\n      <td>Female</td>\n      <td>16</td>\n    </tr>\n    <tr>\n      <th>16</th>\n      <td>17.0</td>\n      <td>Tobias Sherburn</td>\n      <td>Tobias</td>\n      <td>Sherburn</td>\n      <td>tsherburnf@facebook.com</td>\n      <td>Male</td>\n      <td>2</td>\n    </tr>\n    <tr>\n      <th>17</th>\n      <td>NaN</td>\n      <td>NaN</td>\n      <td>NaN</td>\n      <td>NaN</td>\n      <td>NaN</td>\n      <td>NaN</td>\n      <td>NaN</td>\n    </tr>\n    <tr>\n      <th>18</th>\n      <td>19.0</td>\n      <td>Clair Skillern</td>\n      <td>Clair</td>\n      <td>Skillern</td>\n      <td>cskillerng@nih.gov</td>\n      <td>Male</td>\n      <td>-78</td>\n    </tr>\n    <tr>\n      <th>19</th>\n      <td>20.0</td>\n      <td>Mathew Addicott</td>\n      <td>Mathew</td>\n      <td>Addicott</td>\n      <td>maddicotth@acquirethisname.com</td>\n      <td>Male</td>\n      <td>65</td>\n    </tr>\n    <tr>\n      <th>20</th>\n      <td>21.0</td>\n      <td>Kerianne Goacher</td>\n      <td>Kerianne</td>\n      <td>Goacher</td>\n      <td>NaN</td>\n      <td>Female</td>\n      <td>45</td>\n    </tr>\n    <tr>\n      <th>21</th>\n      <td>NaN</td>\n      <td>Maurits Shawl</td>\n      <td>Maurits</td>\n      <td>Shawl</td>\n      <td>mshawlj@dmoz.org</td>\n      <td>Male</td>\n      <td>72</td>\n    </tr>\n    <tr>\n      <th>22</th>\n      <td>NaN</td>\n      <td>NaN</td>\n      <td>NaN</td>\n      <td>NaN</td>\n      <td>NaN</td>\n      <td>NaN</td>\n      <td>NaN</td>\n    </tr>\n  </tbody>\n</table>\n</div>"
          },
          "metadata": {}
        }
      ]
    },
    {
      "metadata": {
        "_uuid": "82e674cb2726c5a868fea682ccda6fb60be1b049"
      },
      "cell_type": "markdown",
      "source": "Begin cleanups"
    },
    {
      "metadata": {
        "trusted": true,
        "_uuid": "d046635e90e427bea991560f370660fd1b21440d"
      },
      "cell_type": "code",
      "source": "nd = cont.dropna(axis=0, thresh=1) # drop rows that has more then one NaN\nnd = nd.drop(['id', 'full_name'], axis=1) # get rid of ID axis as not needed and sparse; get rid off full name as redundant and non atomic\nnd = nd.drop_duplicates() # get rid of duplicates\nnd['age'] = nd['age'].replace( 'old', pd.to_numeric(nd['age'], errors='coerce').max() ) # replace columnes with 'old' with max age\nnd['age'] = pd.to_numeric(nd['age'], errors='coerce').abs() # now make negative values positive\n\n# keep empty email and gender around\nnd = nd.fillna('') # replace NaN with empty string\n\nnd",
      "execution_count": 40,
      "outputs": [
        {
          "output_type": "execute_result",
          "execution_count": 40,
          "data": {
            "text/plain": "    first_name    last_name                           email  gender   age\n0       Mariel     Finnigan             mfinnigan0@usda.gov  Female  60.0\n1       Kenyon       Possek               kpossek1@ucoz.com    Male  12.0\n2         Lalo    Manifould             lmanifould2@pbs.org    Male  26.0\n3      Nickola       Carous               ncarous3@phoca.cz    Male   4.0\n4       Norman       Dubbin          ndubbin4@wikipedia.org    Male  17.0\n5        Hasty       Perdue                 hperdue5@qq.com          77.0\n6        Franz     Castello             fcastello6@1688.com    Male  25.0\n7        Jorge       Tarney                 jtarney7@ft.com    Male  77.0\n8       Eunice  Blakebrough          eblakebrough8@sohu.com  Female  45.0\n9   Kristopher   Frankcombe          kfrankcombe9@slate.com    Male  91.0\n10        Palm      Domotor             pdomotora@github.io    Male   6.0\n11         Luz    Lansdowne     llansdowneb@theguardian.com  Female  16.0\n12    Modestia        Keble                 mkeblec@cmu.edu  Female  91.0\n13      Stacee        Bovis           sbovisd@webeden.co.uk  Female  22.0\n14        Eden         Wace             ewacee@marriott.com  Female  16.0\n16      Tobias     Sherburn         tsherburnf@facebook.com    Male   2.0\n18       Clair     Skillern              cskillerng@nih.gov    Male  78.0\n19      Mathew     Addicott  maddicotth@acquirethisname.com    Male  65.0\n20    Kerianne      Goacher                                  Female  45.0\n21     Maurits        Shawl                mshawlj@dmoz.org    Male  72.0",
            "text/html": "<div>\n<style scoped>\n    .dataframe tbody tr th:only-of-type {\n        vertical-align: middle;\n    }\n\n    .dataframe tbody tr th {\n        vertical-align: top;\n    }\n\n    .dataframe thead th {\n        text-align: right;\n    }\n</style>\n<table border=\"1\" class=\"dataframe\">\n  <thead>\n    <tr style=\"text-align: right;\">\n      <th></th>\n      <th>first_name</th>\n      <th>last_name</th>\n      <th>email</th>\n      <th>gender</th>\n      <th>age</th>\n    </tr>\n  </thead>\n  <tbody>\n    <tr>\n      <th>0</th>\n      <td>Mariel</td>\n      <td>Finnigan</td>\n      <td>mfinnigan0@usda.gov</td>\n      <td>Female</td>\n      <td>60.0</td>\n    </tr>\n    <tr>\n      <th>1</th>\n      <td>Kenyon</td>\n      <td>Possek</td>\n      <td>kpossek1@ucoz.com</td>\n      <td>Male</td>\n      <td>12.0</td>\n    </tr>\n    <tr>\n      <th>2</th>\n      <td>Lalo</td>\n      <td>Manifould</td>\n      <td>lmanifould2@pbs.org</td>\n      <td>Male</td>\n      <td>26.0</td>\n    </tr>\n    <tr>\n      <th>3</th>\n      <td>Nickola</td>\n      <td>Carous</td>\n      <td>ncarous3@phoca.cz</td>\n      <td>Male</td>\n      <td>4.0</td>\n    </tr>\n    <tr>\n      <th>4</th>\n      <td>Norman</td>\n      <td>Dubbin</td>\n      <td>ndubbin4@wikipedia.org</td>\n      <td>Male</td>\n      <td>17.0</td>\n    </tr>\n    <tr>\n      <th>5</th>\n      <td>Hasty</td>\n      <td>Perdue</td>\n      <td>hperdue5@qq.com</td>\n      <td></td>\n      <td>77.0</td>\n    </tr>\n    <tr>\n      <th>6</th>\n      <td>Franz</td>\n      <td>Castello</td>\n      <td>fcastello6@1688.com</td>\n      <td>Male</td>\n      <td>25.0</td>\n    </tr>\n    <tr>\n      <th>7</th>\n      <td>Jorge</td>\n      <td>Tarney</td>\n      <td>jtarney7@ft.com</td>\n      <td>Male</td>\n      <td>77.0</td>\n    </tr>\n    <tr>\n      <th>8</th>\n      <td>Eunice</td>\n      <td>Blakebrough</td>\n      <td>eblakebrough8@sohu.com</td>\n      <td>Female</td>\n      <td>45.0</td>\n    </tr>\n    <tr>\n      <th>9</th>\n      <td>Kristopher</td>\n      <td>Frankcombe</td>\n      <td>kfrankcombe9@slate.com</td>\n      <td>Male</td>\n      <td>91.0</td>\n    </tr>\n    <tr>\n      <th>10</th>\n      <td>Palm</td>\n      <td>Domotor</td>\n      <td>pdomotora@github.io</td>\n      <td>Male</td>\n      <td>6.0</td>\n    </tr>\n    <tr>\n      <th>11</th>\n      <td>Luz</td>\n      <td>Lansdowne</td>\n      <td>llansdowneb@theguardian.com</td>\n      <td>Female</td>\n      <td>16.0</td>\n    </tr>\n    <tr>\n      <th>12</th>\n      <td>Modestia</td>\n      <td>Keble</td>\n      <td>mkeblec@cmu.edu</td>\n      <td>Female</td>\n      <td>91.0</td>\n    </tr>\n    <tr>\n      <th>13</th>\n      <td>Stacee</td>\n      <td>Bovis</td>\n      <td>sbovisd@webeden.co.uk</td>\n      <td>Female</td>\n      <td>22.0</td>\n    </tr>\n    <tr>\n      <th>14</th>\n      <td>Eden</td>\n      <td>Wace</td>\n      <td>ewacee@marriott.com</td>\n      <td>Female</td>\n      <td>16.0</td>\n    </tr>\n    <tr>\n      <th>16</th>\n      <td>Tobias</td>\n      <td>Sherburn</td>\n      <td>tsherburnf@facebook.com</td>\n      <td>Male</td>\n      <td>2.0</td>\n    </tr>\n    <tr>\n      <th>18</th>\n      <td>Clair</td>\n      <td>Skillern</td>\n      <td>cskillerng@nih.gov</td>\n      <td>Male</td>\n      <td>78.0</td>\n    </tr>\n    <tr>\n      <th>19</th>\n      <td>Mathew</td>\n      <td>Addicott</td>\n      <td>maddicotth@acquirethisname.com</td>\n      <td>Male</td>\n      <td>65.0</td>\n    </tr>\n    <tr>\n      <th>20</th>\n      <td>Kerianne</td>\n      <td>Goacher</td>\n      <td></td>\n      <td>Female</td>\n      <td>45.0</td>\n    </tr>\n    <tr>\n      <th>21</th>\n      <td>Maurits</td>\n      <td>Shawl</td>\n      <td>mshawlj@dmoz.org</td>\n      <td>Male</td>\n      <td>72.0</td>\n    </tr>\n  </tbody>\n</table>\n</div>"
          },
          "metadata": {}
        }
      ]
    }
  ],
  "metadata": {
    "kernelspec": {
      "display_name": "Python 3",
      "language": "python",
      "name": "python3"
    },
    "language_info": {
      "name": "python",
      "version": "3.6.5",
      "mimetype": "text/x-python",
      "codemirror_mode": {
        "name": "ipython",
        "version": 3
      },
      "pygments_lexer": "ipython3",
      "nbconvert_exporter": "python",
      "file_extension": ".py"
    }
  },
  "nbformat": 4,
  "nbformat_minor": 1
}